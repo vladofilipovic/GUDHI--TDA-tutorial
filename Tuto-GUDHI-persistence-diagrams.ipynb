{
 "cells": [
  {
   "cell_type": "markdown",
   "metadata": {
    "collapsed": true
   },
   "source": [
    "# TDA  with Python using the Gudhi Library  \n",
    "\n",
    "# Persistence diagram   "
   ]
  },
  {
   "cell_type": "code",
   "execution_count": 1,
   "metadata": {},
   "outputs": [],
   "source": [
    "import numpy as np\n",
    "import pandas as pd\n",
    "import gudhi as gd  \n",
    "from sklearn import manifold\n",
    "from pylab import *\n",
    "%matplotlib inline\n",
    "# import sklearn_tda"
   ]
  },
  {
   "cell_type": "markdown",
   "metadata": {},
   "source": [
    "### Persistence homology and persistence diagram"
   ]
  },
  {
   "cell_type": "markdown",
   "metadata": {},
   "source": [
    "One strong motivation for defining homology groups is the fact that two shapes can be distinguished by examining their holes.\n",
    "\n",
    "Persistent homology is a powerful tool to compute, study and encode efficiently multiscale topological features  of nested families of simplicial complexes and topological spaces. It encodes the evolution of the homology groups of the nested complexes (holes) across the scales.\n",
    "\n",
    "In the example below we consider the filtration given by a union of growing balls centered on the finite set of points $C$. \n",
    "<img src=\"Images/persistence.png\"  style=\"width: 600px;\"/>"
   ]
  },
  {
   "cell_type": "markdown",
   "metadata": {},
   "source": [
    "\n",
    "a) For the radius r = 0, the union of balls is reduced to the initial finite set of point, each of them corresponding to a 0-dimensional feature, i.e. a connected component; an interval is created for the birth for each of these features at r = 0.  \n",
    "\n",
    "b) Some of the balls started to overlap resulting in the death of some connected components that get merged together; the persistence diagram keeps track of these deaths, putting an end point to the corresponding intervals as they disappear.    \n",
    "\n",
    "c) New components have merged giving rise to a single connected component and, so, all the intervals associated to a 0-dimensional feature have been ended, except the one corresponding to the remaining components; two new 1-dimensional features, have appeared resulting in two new intervals (in blue) starting at their birth scale.  \n",
    "\n",
    "d) One of the two 1-dimensional cycles has been filled, resulting in its death in the filtration and the end of the corresponding blue interval.     \n",
    "\n",
    "e) all the 1-dimensional features have died, it only remains the long (and never dying) red interval. \n",
    "\n",
    "The final barcode can also be equivalently represented as **a persistence diagram** where every interval (a,b) is represented by the the point of coordinate (a,b) in $\\mathbb R^2$. \n",
    "\n",
    "Intuitively the longer is an interval in the barcode or, equivalently the farther from the diagonal is the corresponding point in the diagram, the more persistent, and thus relevant, is the corresponding homological feature across the filtration. \n",
    " \n",
    "          "
   ]
  },
  {
   "cell_type": "markdown",
   "metadata": {},
   "source": [
    "### Protein binding dataset\n",
    "\n",
    "The data we study in this notebook represent configurations of protein binding. This example is borrowed from the paper a paper of  Kovacev-Nikolic et.al [1](https://arxiv.org/pdf/1412.1394.pdf).\n",
    "\n",
    "The paper compares closed and open forms of the maltose-binding protein (MBP), a large biomolecule consisting of 370 amino acid residues. The analysis is not based on geometric distances in $\\mathbb R^3$ but on a metric of *dynamical distances* defined by\n",
    "$$D_{ij} = 1 - |C_{ij}|,$$\n",
    "where $C$ is the correlation matrix between residues.\n",
    "\n",
    "Correlation matrices between residues can be found at this [link](https://www.researchgate.net/publication/301543862_corr), we are greatful to the authors for sharing data !\n",
    "\n",
    "We start from the Vietoris-Rips filtrations of the Protein binding distance matrices. See this [previous tutorial](Tuto-GUDHI-simplicial-complexes-from-distance-matrix.ipynb) for more details on the construction."
   ]
  },
  {
   "cell_type": "code",
   "execution_count": 2,
   "metadata": {},
   "outputs": [],
   "source": [
    "path_file = \"./datasets/Corr_ProteinBinding/\"\n",
    "files_list = [\n",
    "'1anf.corr_1.txt',\n",
    "'1ez9.corr_1.txt',\n",
    "'1fqa.corr_2.txt',\n",
    "'1fqb.corr_3.txt',\n",
    "'1fqc.corr_2.txt',\n",
    "'1fqd.corr_3.txt',\n",
    "'1jw4.corr_4.txt',\n",
    "'1jw5.corr_5.txt',\n",
    "'1lls.corr_6.txt',\n",
    "'1mpd.corr_4.txt',\n",
    "'1omp.corr_7.txt',\n",
    "'3hpi.corr_5.txt',\n",
    "'3mbp.corr_6.txt',\n",
    "'4mbp.corr_7.txt']\n",
    "\n",
    "corr_list = [pd.read_csv(path_file+u,\n",
    "                         header=None,\n",
    "                         delim_whitespace=True) for u in files_list]\n",
    "\n",
    "dist_list = [1- np.abs(c) for c in corr_list]"
   ]
  },
  {
   "cell_type": "markdown",
   "metadata": {},
   "source": [
    "We first consider the first distance matrix:"
   ]
  },
  {
   "cell_type": "code",
   "execution_count": 3,
   "metadata": {},
   "outputs": [],
   "source": [
    "mat_dist0 = dist_list[0]"
   ]
  },
  {
   "cell_type": "markdown",
   "metadata": {},
   "source": [
    "### Persistence barecodes and persistence diagrams"
   ]
  },
  {
   "cell_type": "markdown",
   "metadata": {},
   "source": [
    "We build the Vietoris-Rips complex from the distance matrix `mat_dist0`, see this [notebook](Tuto-GUDHI-simplicial-complexes-from-distance-matrix.ipynb) for more details."
   ]
  },
  {
   "cell_type": "code",
   "execution_count": 4,
   "metadata": {},
   "outputs": [],
   "source": [
    "skeleton_protein0 = gd.RipsComplex(distance_matrix=mat_dist0.values,\n",
    "                                  max_edge_length=0.8) \n",
    "\n",
    "Rips_simplex_tree_protein0 = skeleton_protein0.create_simplex_tree(max_dimension=2)"
   ]
  },
  {
   "cell_type": "markdown",
   "metadata": {},
   "source": [
    "Now we can compute persistence on the simplex tree structure using the <code>persistence()</code> method of the simplex tree class:"
   ]
  },
  {
   "cell_type": "code",
   "execution_count": 5,
   "metadata": {},
   "outputs": [],
   "source": [
    "BarCodes_Rips0 = Rips_simplex_tree_protein0.persistence()"
   ]
  },
  {
   "cell_type": "markdown",
   "metadata": {},
   "source": [
    "The object `BarCodes_Rips0` is the list of barcodes: each element in the list is a tuple (dim,(b,d)) where dim is a dimension, b is birth parameter  and d is death parameter.\n",
    "\n",
    "Let's print the 20 first elements in the list:"
   ]
  },
  {
   "cell_type": "code",
   "execution_count": 6,
   "metadata": {},
   "outputs": [
    {
     "name": "stdout",
     "output_type": "stream",
     "text": [
      "(1, (0.07963602000000003, 0.35798637))\n",
      "(1, (0.12677510000000003, 0.39508646999999997))\n",
      "(1, (0.26003449999999995, 0.5273952))\n",
      "(1, (0.07943339999999999, 0.31429881000000004))\n",
      "(1, (0.08248586999999996, 0.30429980999999995))\n",
      "(1, (0.11378021999999999, 0.31171713999999995))\n",
      "(1, (0.07726765000000002, 0.26078758))\n",
      "(1, (0.09107215000000002, 0.25065161999999996))\n",
      "(1, (0.0709843, 0.22765623000000001))\n",
      "(1, (0.09347402000000005, 0.24999733000000002))\n",
      "(1, (0.07013614000000001, 0.22504734000000004))\n",
      "(1, (0.08752541000000003, 0.20355559))\n",
      "(1, (0.21541215000000002, 0.32814707))\n",
      "(1, (0.06835270000000004, 0.17527247))\n",
      "(1, (0.08857625000000002, 0.19539684000000002))\n",
      "(1, (0.08241111999999995, 0.18353136999999997))\n",
      "(1, (0.10362273, 0.20264340000000003))\n",
      "(1, (0.09289979999999998, 0.19181444000000003))\n",
      "(1, (0.09581541999999998, 0.19310879999999997))\n",
      "(1, (0.09541275000000005, 0.18175165000000004))\n"
     ]
    }
   ],
   "source": [
    "for i in range(20):\n",
    "    print(BarCodes_Rips0[i])"
   ]
  },
  {
   "cell_type": "markdown",
   "metadata": {},
   "source": [
    "These 20 topolological features have dimension 1, they corresponds to holes of dimension 1."
   ]
  },
  {
   "cell_type": "markdown",
   "metadata": {},
   "source": [
    "We have access to persistence_intervals per dimension using the `persistence_intervals_in_dimension()` method, for instance for dimension 0:"
   ]
  },
  {
   "cell_type": "code",
   "execution_count": 7,
   "metadata": {},
   "outputs": [
    {
     "data": {
      "text/plain": [
       "[(0.0, 0.014988169999999967),\n",
       " (0.0, 0.016141790000000045),\n",
       " (0.0, 0.016186290000000048),\n",
       " (0.0, 0.019646410000000003),\n",
       " (0.0, 0.02002598),\n",
       " (0.0, 0.020196210000000048),\n",
       " (0.0, 0.02128167000000003),\n",
       " (0.0, 0.02139837),\n",
       " (0.0, 0.021894140000000006),\n",
       " (0.0, 0.022110460000000054),\n",
       " (0.0, 0.022791349999999988),\n",
       " (0.0, 0.023054660000000005),\n",
       " (0.0, 0.02376383999999998),\n",
       " (0.0, 0.023989579999999955),\n",
       " (0.0, 0.024279770000000034),\n",
       " (0.0, 0.02431161000000004),\n",
       " (0.0, 0.02514183000000003),\n",
       " (0.0, 0.025262099999999954),\n",
       " (0.0, 0.025565999999999978),\n",
       " (0.0, 0.025724140000000006),\n",
       " (0.0, 0.026689060000000042),\n",
       " (0.0, 0.027036240000000045),\n",
       " (0.0, 0.027239420000000014),\n",
       " (0.0, 0.027307149999999947),\n",
       " (0.0, 0.02737215000000004),\n",
       " (0.0, 0.027430060000000034),\n",
       " (0.0, 0.02758413000000004),\n",
       " (0.0, 0.02769299000000003),\n",
       " (0.0, 0.027711200000000047),\n",
       " (0.0, 0.028153890000000015),\n",
       " (0.0, 0.028894520000000035),\n",
       " (0.0, 0.029182599999999947),\n",
       " (0.0, 0.029376019999999947),\n",
       " (0.0, 0.029542529999999956),\n",
       " (0.0, 0.029609910000000017),\n",
       " (0.0, 0.029655129999999974),\n",
       " (0.0, 0.02989476000000002),\n",
       " (0.0, 0.029938699999999985),\n",
       " (0.0, 0.030054809999999987),\n",
       " (0.0, 0.030193550000000013),\n",
       " (0.0, 0.030221199999999948),\n",
       " (0.0, 0.030444119999999963),\n",
       " (0.0, 0.030617319999999948),\n",
       " (0.0, 0.030667760000000044),\n",
       " (0.0, 0.030936469999999994),\n",
       " (0.0, 0.03093904000000003),\n",
       " (0.0, 0.03096135),\n",
       " (0.0, 0.031193849999999967),\n",
       " (0.0, 0.031273030000000035),\n",
       " (0.0, 0.031370710000000024),\n",
       " (0.0, 0.031390559999999956),\n",
       " (0.0, 0.031416629999999945),\n",
       " (0.0, 0.031471049999999945),\n",
       " (0.0, 0.03165437000000004),\n",
       " (0.0, 0.031975549999999964),\n",
       " (0.0, 0.032014100000000045),\n",
       " (0.0, 0.03203754999999997),\n",
       " (0.0, 0.0320416),\n",
       " (0.0, 0.032043829999999995),\n",
       " (0.0, 0.032054090000000035),\n",
       " (0.0, 0.032091230000000026),\n",
       " (0.0, 0.03216505999999997),\n",
       " (0.0, 0.03251925),\n",
       " (0.0, 0.03252582000000004),\n",
       " (0.0, 0.032629699999999984),\n",
       " (0.0, 0.033200180000000024),\n",
       " (0.0, 0.03320555000000003),\n",
       " (0.0, 0.03322223000000002),\n",
       " (0.0, 0.033297669999999946),\n",
       " (0.0, 0.033486980000000055),\n",
       " (0.0, 0.033855549999999957),\n",
       " (0.0, 0.034142549999999994),\n",
       " (0.0, 0.03438534999999998),\n",
       " (0.0, 0.034528450000000044),\n",
       " (0.0, 0.03464100999999997),\n",
       " (0.0, 0.0351205),\n",
       " (0.0, 0.03512744000000001),\n",
       " (0.0, 0.03513681999999996),\n",
       " (0.0, 0.03527347999999997),\n",
       " (0.0, 0.035412629999999945),\n",
       " (0.0, 0.035590760000000055),\n",
       " (0.0, 0.03564263000000001),\n",
       " (0.0, 0.03568636999999997),\n",
       " (0.0, 0.035723210000000005),\n",
       " (0.0, 0.035939420000000055),\n",
       " (0.0, 0.035951949999999955),\n",
       " (0.0, 0.03602799000000001),\n",
       " (0.0, 0.03609680999999998),\n",
       " (0.0, 0.03610732999999999),\n",
       " (0.0, 0.036163060000000025),\n",
       " (0.0, 0.03644183000000001),\n",
       " (0.0, 0.03654824000000001),\n",
       " (0.0, 0.03661895000000004),\n",
       " (0.0, 0.037240709999999955),\n",
       " (0.0, 0.03733498000000002),\n",
       " (0.0, 0.037684680000000026),\n",
       " (0.0, 0.03774493000000001),\n",
       " (0.0, 0.03798142999999998),\n",
       " (0.0, 0.03815908999999995),\n",
       " (0.0, 0.038479739999999985),\n",
       " (0.0, 0.03851494),\n",
       " (0.0, 0.038575020000000015),\n",
       " (0.0, 0.038926959999999955),\n",
       " (0.0, 0.03907594999999997),\n",
       " (0.0, 0.03913962999999998),\n",
       " (0.0, 0.03923370000000004),\n",
       " (0.0, 0.03926191999999995),\n",
       " (0.0, 0.03947111999999997),\n",
       " (0.0, 0.03964137999999995),\n",
       " (0.0, 0.039716399999999985),\n",
       " (0.0, 0.03975846000000005),\n",
       " (0.0, 0.039848520000000054),\n",
       " (0.0, 0.03997198999999996),\n",
       " (0.0, 0.04015835000000001),\n",
       " (0.0, 0.04017048999999995),\n",
       " (0.0, 0.04023692000000001),\n",
       " (0.0, 0.04046704000000001),\n",
       " (0.0, 0.04072275999999997),\n",
       " (0.0, 0.04074774999999997),\n",
       " (0.0, 0.04088822999999997),\n",
       " (0.0, 0.04095618999999995),\n",
       " (0.0, 0.040961950000000025),\n",
       " (0.0, 0.04110269),\n",
       " (0.0, 0.04123368999999999),\n",
       " (0.0, 0.04127687000000002),\n",
       " (0.0, 0.04131072000000002),\n",
       " (0.0, 0.04140789),\n",
       " (0.0, 0.04165061999999997),\n",
       " (0.0, 0.041761539999999986),\n",
       " (0.0, 0.04181858999999999),\n",
       " (0.0, 0.041914959999999946),\n",
       " (0.0, 0.041964760000000045),\n",
       " (0.0, 0.04209390000000002),\n",
       " (0.0, 0.042270290000000044),\n",
       " (0.0, 0.042367350000000026),\n",
       " (0.0, 0.04254986000000005),\n",
       " (0.0, 0.042606880000000014),\n",
       " (0.0, 0.04261733999999995),\n",
       " (0.0, 0.042664409999999986),\n",
       " (0.0, 0.04296580999999999),\n",
       " (0.0, 0.04303701000000004),\n",
       " (0.0, 0.04306739000000004),\n",
       " (0.0, 0.043172690000000014),\n",
       " (0.0, 0.043465089999999984),\n",
       " (0.0, 0.04370370000000001),\n",
       " (0.0, 0.04372465000000003),\n",
       " (0.0, 0.04383413000000003),\n",
       " (0.0, 0.04391403999999999),\n",
       " (0.0, 0.04398658),\n",
       " (0.0, 0.044002929999999996),\n",
       " (0.0, 0.04407296999999999),\n",
       " (0.0, 0.04409098),\n",
       " (0.0, 0.044358110000000006),\n",
       " (0.0, 0.04439727999999998),\n",
       " (0.0, 0.04443403999999995),\n",
       " (0.0, 0.0444774),\n",
       " (0.0, 0.04451368),\n",
       " (0.0, 0.04482898999999996),\n",
       " (0.0, 0.04495304),\n",
       " (0.0, 0.04547506000000001),\n",
       " (0.0, 0.04547827999999998),\n",
       " (0.0, 0.04554780000000003),\n",
       " (0.0, 0.04615431000000003),\n",
       " (0.0, 0.046190469999999983),\n",
       " (0.0, 0.04625533000000004),\n",
       " (0.0, 0.04628038999999995),\n",
       " (0.0, 0.04678061),\n",
       " (0.0, 0.04679401999999999),\n",
       " (0.0, 0.04680114999999996),\n",
       " (0.0, 0.04704525999999998),\n",
       " (0.0, 0.04719843999999995),\n",
       " (0.0, 0.04747816000000005),\n",
       " (0.0, 0.04767326000000005),\n",
       " (0.0, 0.04768366000000002),\n",
       " (0.0, 0.04792481999999998),\n",
       " (0.0, 0.047979419999999995),\n",
       " (0.0, 0.04802757999999996),\n",
       " (0.0, 0.04811273999999999),\n",
       " (0.0, 0.04824103999999996),\n",
       " (0.0, 0.04824236999999998),\n",
       " (0.0, 0.04833752999999996),\n",
       " (0.0, 0.048487550000000046),\n",
       " (0.0, 0.04855529999999997),\n",
       " (0.0, 0.048578189999999966),\n",
       " (0.0, 0.04860536000000004),\n",
       " (0.0, 0.048857710000000054),\n",
       " (0.0, 0.04897733999999998),\n",
       " (0.0, 0.049018510000000015),\n",
       " (0.0, 0.04944188000000005),\n",
       " (0.0, 0.04948697999999996),\n",
       " (0.0, 0.049505270000000046),\n",
       " (0.0, 0.04955799999999999),\n",
       " (0.0, 0.049729880000000004),\n",
       " (0.0, 0.04981983000000001),\n",
       " (0.0, 0.04982386000000005),\n",
       " (0.0, 0.04984922999999997),\n",
       " (0.0, 0.049862760000000006),\n",
       " (0.0, 0.050271049999999984),\n",
       " (0.0, 0.05044280000000001),\n",
       " (0.0, 0.050556950000000045),\n",
       " (0.0, 0.050662969999999974),\n",
       " (0.0, 0.05070344999999998),\n",
       " (0.0, 0.05095380000000005),\n",
       " (0.0, 0.05103036999999999),\n",
       " (0.0, 0.0510853),\n",
       " (0.0, 0.05112470000000002),\n",
       " (0.0, 0.05119141000000005),\n",
       " (0.0, 0.051258079999999984),\n",
       " (0.0, 0.051416099999999965),\n",
       " (0.0, 0.05146225000000004),\n",
       " (0.0, 0.051573149999999957),\n",
       " (0.0, 0.05181603999999995),\n",
       " (0.0, 0.05189840000000001),\n",
       " (0.0, 0.05228542000000003),\n",
       " (0.0, 0.052458019999999994),\n",
       " (0.0, 0.05249015999999995),\n",
       " (0.0, 0.05256426000000003),\n",
       " (0.0, 0.05261344999999995),\n",
       " (0.0, 0.05268700000000004),\n",
       " (0.0, 0.052691350000000026),\n",
       " (0.0, 0.05286959000000002),\n",
       " (0.0, 0.05308782000000001),\n",
       " (0.0, 0.053129810000000055),\n",
       " (0.0, 0.05328801999999999),\n",
       " (0.0, 0.05388744999999995),\n",
       " (0.0, 0.05406628999999996),\n",
       " (0.0, 0.05424359000000001),\n",
       " (0.0, 0.05432115000000004),\n",
       " (0.0, 0.05434061999999995),\n",
       " (0.0, 0.054474369999999994),\n",
       " (0.0, 0.05475445000000001),\n",
       " (0.0, 0.054768700000000003),\n",
       " (0.0, 0.054808140000000005),\n",
       " (0.0, 0.055019629999999986),\n",
       " (0.0, 0.05515901000000001),\n",
       " (0.0, 0.05516030000000005),\n",
       " (0.0, 0.05521653999999998),\n",
       " (0.0, 0.055390720000000004),\n",
       " (0.0, 0.05547035),\n",
       " (0.0, 0.05559307999999996),\n",
       " (0.0, 0.05608519000000001),\n",
       " (0.0, 0.05611107999999998),\n",
       " (0.0, 0.05611354000000002),\n",
       " (0.0, 0.05622495999999999),\n",
       " (0.0, 0.05627249000000001),\n",
       " (0.0, 0.05637188999999998),\n",
       " (0.0, 0.05729700000000004),\n",
       " (0.0, 0.057299710000000004),\n",
       " (0.0, 0.05746996999999998),\n",
       " (0.0, 0.05753706000000003),\n",
       " (0.0, 0.058465679999999964),\n",
       " (0.0, 0.05849420999999999),\n",
       " (0.0, 0.058554910000000016),\n",
       " (0.0, 0.05858432999999996),\n",
       " (0.0, 0.058810150000000005),\n",
       " (0.0, 0.05891398000000003),\n",
       " (0.0, 0.05910733999999995),\n",
       " (0.0, 0.05927985000000002),\n",
       " (0.0, 0.05930276000000001),\n",
       " (0.0, 0.05937791999999997),\n",
       " (0.0, 0.059579099999999996),\n",
       " (0.0, 0.05959093000000004),\n",
       " (0.0, 0.059601050000000044),\n",
       " (0.0, 0.06001639000000003),\n",
       " (0.0, 0.06091707999999996),\n",
       " (0.0, 0.06102110999999999),\n",
       " (0.0, 0.06114719999999996),\n",
       " (0.0, 0.06140900000000005),\n",
       " (0.0, 0.061500650000000046),\n",
       " (0.0, 0.06153713999999999),\n",
       " (0.0, 0.06154331000000002),\n",
       " (0.0, 0.06164122000000005),\n",
       " (0.0, 0.06191270000000004),\n",
       " (0.0, 0.06200894000000001),\n",
       " (0.0, 0.062124570000000046),\n",
       " (0.0, 0.06247820000000004),\n",
       " (0.0, 0.06275173),\n",
       " (0.0, 0.06289644999999999),\n",
       " (0.0, 0.06309262999999998),\n",
       " (0.0, 0.06329755000000004),\n",
       " (0.0, 0.06339085),\n",
       " (0.0, 0.06340604000000005),\n",
       " (0.0, 0.06340869999999998),\n",
       " (0.0, 0.06365606999999995),\n",
       " (0.0, 0.06370852000000005),\n",
       " (0.0, 0.06376314000000005),\n",
       " (0.0, 0.06452473999999997),\n",
       " (0.0, 0.06464462000000004),\n",
       " (0.0, 0.06539583999999998),\n",
       " (0.0, 0.06557880000000005),\n",
       " (0.0, 0.06560913000000002),\n",
       " (0.0, 0.06565494000000005),\n",
       " (0.0, 0.06628835),\n",
       " (0.0, 0.06640049999999997),\n",
       " (0.0, 0.06651978999999997),\n",
       " (0.0, 0.06655549999999999),\n",
       " (0.0, 0.06667502000000003),\n",
       " (0.0, 0.0667084),\n",
       " (0.0, 0.06679813000000001),\n",
       " (0.0, 0.06682169999999998),\n",
       " (0.0, 0.06688167),\n",
       " (0.0, 0.06728802),\n",
       " (0.0, 0.06736142),\n",
       " (0.0, 0.06764263999999998),\n",
       " (0.0, 0.06825241000000004),\n",
       " (0.0, 0.06869391999999996),\n",
       " (0.0, 0.06877336),\n",
       " (0.0, 0.06892966),\n",
       " (0.0, 0.06897429),\n",
       " (0.0, 0.06918575000000005),\n",
       " (0.0, 0.06954788999999995),\n",
       " (0.0, 0.06996146000000003),\n",
       " (0.0, 0.07021496999999999),\n",
       " (0.0, 0.07103846999999996),\n",
       " (0.0, 0.07105813999999999),\n",
       " (0.0, 0.07122810999999996),\n",
       " (0.0, 0.07162656),\n",
       " (0.0, 0.07171408000000001),\n",
       " (0.0, 0.07273788000000003),\n",
       " (0.0, 0.07326412000000004),\n",
       " (0.0, 0.07355539),\n",
       " (0.0, 0.07385251000000004),\n",
       " (0.0, 0.07389020000000002),\n",
       " (0.0, 0.07394714999999996),\n",
       " (0.0, 0.07403272999999999),\n",
       " (0.0, 0.07465659999999996),\n",
       " (0.0, 0.07496113999999998),\n",
       " (0.0, 0.07510989000000001),\n",
       " (0.0, 0.07526754000000002),\n",
       " (0.0, 0.07619469999999995),\n",
       " (0.0, 0.07620041),\n",
       " (0.0, 0.07628743000000004),\n",
       " (0.0, 0.07870332000000002),\n",
       " (0.0, 0.07881972999999998),\n",
       " (0.0, 0.07893212999999999),\n",
       " (0.0, 0.07893759),\n",
       " (0.0, 0.07933292000000003),\n",
       " (0.0, 0.08004957000000001),\n",
       " (0.0, 0.08036911000000002),\n",
       " (0.0, 0.08080198999999999),\n",
       " (0.0, 0.08109694),\n",
       " (0.0, 0.08175500000000002),\n",
       " (0.0, 0.08176781),\n",
       " (0.0, 0.08248694999999995),\n",
       " (0.0, 0.08258633999999998),\n",
       " (0.0, 0.08299805000000005),\n",
       " (0.0, 0.08464198),\n",
       " (0.0, 0.08729047000000001),\n",
       " (0.0, 0.08744105999999996),\n",
       " (0.0, 0.08878103999999998),\n",
       " (0.0, 0.08969459000000002),\n",
       " (0.0, 0.09321352000000005),\n",
       " (0.0, 0.09341871000000002),\n",
       " (0.0, 0.09479172999999996),\n",
       " (0.0, 0.09541854999999999),\n",
       " (0.0, 0.10237912999999998),\n",
       " (0.0, 0.10285434000000004),\n",
       " (0.0, 0.10715870999999999),\n",
       " (0.0, 0.10830088999999998),\n",
       " (0.0, 0.10954903000000005),\n",
       " (0.0, 0.11366507000000003),\n",
       " (0.0, 0.11958183),\n",
       " (0.0, 0.14547953000000002),\n",
       " (0.0, 0.18964298999999996),\n",
       " (0.0, 0.39963213),\n",
       " (0.0, 0.40540978000000005),\n",
       " (0.0, 0.42515959999999997),\n",
       " (0.0, 0.50723615),\n",
       " (0.0, 0.66869636),\n",
       " (0.0, inf)]"
      ]
     },
     "execution_count": 7,
     "metadata": {},
     "output_type": "execute_result"
    }
   ],
   "source": [
    "Rips_simplex_tree_protein0.persistence_intervals_in_dimension(0)"
   ]
  },
  {
   "cell_type": "markdown",
   "metadata": {},
   "source": [
    "The last bars (0.0, inf) die at infinity."
   ]
  },
  {
   "cell_type": "markdown",
   "metadata": {},
   "source": [
    "Finally we can plot the points (birth, death) in the so-called **persistence diagram**:"
   ]
  },
  {
   "cell_type": "code",
   "execution_count": 8,
   "metadata": {},
   "outputs": [
    {
     "data": {
      "image/png": "[encoded data removed]",
      "text/plain": [
       "<Figure size 432x288 with 1 Axes>"
      ]
     },
     "metadata": {
      "needs_background": "light"
     },
     "output_type": "display_data"
    }
   ],
   "source": [
    "gd.plot_persistence_diagram(BarCodes_Rips0);"
   ]
  },
  {
   "cell_type": "markdown",
   "metadata": {},
   "source": [
    "In this representation, 0-dimensional features are the red points (holes of dimension 0, namely connect components). The last connected component dies at infinity in the filtration (red point at the top). 1-dim features are represented in green. \n",
    "\n",
    "The most persistent topological features are those points that are far from the diagonal. Further in the tutorial we give statistical methods to identify topological features that are significant.\n",
    "\n",
    "Note that this representation does not say which points are \"at the origin\" of a given feature. Moreover, a given topological feature (namely a homology class that corresponds to a hole of dimension $d$) is by definition a class of cycles defined on the point cloud and thus it can be represented by several cycles ."
   ]
  },
  {
   "cell_type": "markdown",
   "metadata": {},
   "source": [
    "### Bottleneck distance"
   ]
  },
  {
   "cell_type": "markdown",
   "metadata": {},
   "source": [
    "To exploit the topological information and topological features inferred from persistent homology, one needs to be able to compare persistence diagrams.\n",
    "\n",
    "We see a persistence diagram as the union of its points and of the diagonal, where the point of the diagonal are counted with infinite multiplicity. \n",
    "\n",
    "A matching  between two diagrams $\\mathrm{dgm}_1$ and $\\mathrm{dgm}_2$ is a subset $m \\subseteq \\mathrm{dgm}_1 \\times \\mathrm{dgm}_2$ such that every points in $\\mathrm{dgm}_1 \\setminus \\Delta$ and $\\mathrm{dgm}_2 \\setminus \\Delta$ appears exactly once in $m$. \n",
    "\n",
    "<img src=\"Images/MatchingDiag.png\"  style=\"width: 400px;\"/>\n",
    "\n",
    "The **Bottleneck distance** between $\\mathrm{dgm}_1$ and $\\mathrm{dgm}_2$ is then defined by\n",
    "\n",
    "$$\n",
    "\\mathrm{d}_b (\\mathrm{dgm}1, \\mathrm{dgm}_2) =\\inf_{\\scriptsize{\\mbox{matching}} \\ m} \\max_{(p,q) \\in m} \\| p-q \\|_\\infty.\n",
    "$$"
   ]
  },
  {
   "cell_type": "markdown",
   "metadata": {},
   "source": [
    "Let us compute the Rips complex filtration for another configuration of protein"
   ]
  },
  {
   "cell_type": "code",
   "execution_count": 9,
   "metadata": {},
   "outputs": [],
   "source": [
    "mat_dist1 = dist_list[1]\n",
    "\n",
    "skeleton_protein1 = gd.RipsComplex(distance_matrix=mat_dist1.values,\n",
    "                                  max_edge_length=0.8) \n",
    "\n",
    "Rips_simplex_tree_protein1 = skeleton_protein1.create_simplex_tree(max_dimension=2)"
   ]
  },
  {
   "cell_type": "markdown",
   "metadata": {},
   "source": [
    "and the barcode for this filtration:"
   ]
  },
  {
   "cell_type": "code",
   "execution_count": 10,
   "metadata": {},
   "outputs": [],
   "source": [
    "BarCodes_Rips1 = Rips_simplex_tree_protein1.persistence()"
   ]
  },
  {
   "cell_type": "markdown",
   "metadata": {},
   "source": [
    "The bottleneck distance between the two persistence diagrams can be computed using the <code>bottleneck_distance()</code> function. The bottleneck distance is computed per dimension (for dimension 1 in the example below). We can give in argument of the function the persistence_intervals for a given dimension, which can be computed using the `persistence_intervals_in_dimension()` function. \n"
   ]
  },
  {
   "cell_type": "code",
   "execution_count": 11,
   "metadata": {},
   "outputs": [
    {
     "data": {
      "text/plain": [
       "0.05052142999999998"
      ]
     },
     "execution_count": 11,
     "metadata": {},
     "output_type": "execute_result"
    }
   ],
   "source": [
    "I0 = Rips_simplex_tree_protein0.persistence_intervals_in_dimension(1)\n",
    "I1 = Rips_simplex_tree_protein1.persistence_intervals_in_dimension(1)\n",
    "\n",
    "gd.bottleneck_distance(I0,I1)"
   ]
  },
  {
   "cell_type": "markdown",
   "metadata": {},
   "source": [
    "By default, the function uses an expensive algorithm to compute the exact bottleneck distance. It is also possible to compute an approximated bottleneck distance (additive approximation error given in argument), which is usually a lot faster to compute. See the [documention](http://gudhi.gforge.inria.fr/python/latest/bottleneck_distance_user.html#gudhi.bottleneck_distance) for more details."
   ]
  },
  {
   "cell_type": "code",
   "execution_count": 12,
   "metadata": {},
   "outputs": [
    {
     "data": {
      "text/plain": [
       "0.05061900451758505"
      ]
     },
     "execution_count": 12,
     "metadata": {},
     "output_type": "execute_result"
    }
   ],
   "source": [
    "gd.bottleneck_distance(I0,I1,0.01)"
   ]
  },
  {
   "cell_type": "markdown",
   "metadata": {},
   "source": [
    "### MDS on the bottlneck distances"
   ]
  },
  {
   "cell_type": "markdown",
   "metadata": {},
   "source": [
    "We simple approach for comparing the MPB configurations is using the bottleneck distances between configurations.\n",
    "\n",
    "We first compute the Rips complex filtration for each MPB:"
   ]
  },
  {
   "cell_type": "code",
   "execution_count": 13,
   "metadata": {},
   "outputs": [
    {
     "name": "stdout",
     "output_type": "stream",
     "text": [
      "0\n",
      "1\n",
      "2\n",
      "3\n",
      "4\n",
      "5\n",
      "6\n",
      "7\n",
      "8\n",
      "9\n",
      "10\n",
      "11\n",
      "12\n",
      "13\n"
     ]
    }
   ],
   "source": [
    "persistence_list0 = []\n",
    "persistence_list1 = []\n",
    "\n",
    "i=0\n",
    "for d in dist_list:\n",
    "    print(i)\n",
    "    rips_complex = gd.RipsComplex(distance_matrix=d.values,max_edge_length=0.8)\n",
    "    simplex_tree = rips_complex.create_simplex_tree(max_dimension=2)\n",
    "    diag = simplex_tree.persistence()\n",
    "    persistence_list0.append(simplex_tree.persistence_intervals_in_dimension(0))\n",
    "    persistence_list1.append(simplex_tree.persistence_intervals_in_dimension(1))\n",
    "    i = i +1"
   ]
  },
  {
   "cell_type": "markdown",
   "metadata": {},
   "source": [
    "Next, we compute the matrix of bottleneck distances for dimensions 0 and 1:"
   ]
  },
  {
   "cell_type": "code",
   "execution_count": 14,
   "metadata": {},
   "outputs": [],
   "source": [
    "l = len(files_list)\n",
    "B0= np.zeros((l,l))\n",
    "B1 =np.zeros((l,l))"
   ]
  },
  {
   "cell_type": "code",
   "execution_count": 15,
   "metadata": {},
   "outputs": [],
   "source": [
    "for i in range(l):\n",
    "    for j in range(i):\n",
    "        B0[i,j] = gd.bottleneck_distance(persistence_list0[i], persistence_list0[j])\n",
    "        B1[i,j] = gd.bottleneck_distance(persistence_list1[i], persistence_list1[j])"
   ]
  },
  {
   "cell_type": "code",
   "execution_count": 16,
   "metadata": {},
   "outputs": [
    {
     "data": {
      "text/plain": [
       "array([[0.        , 0.27012237, 0.20270489, 0.23304443, 0.10767524,\n",
       "        0.12799122, 0.30432059, 0.20270489, 0.20270489, 0.11054764,\n",
       "        0.2939635 , 0.132072  , 0.08415318, 0.15367433],\n",
       "       [0.27012237, 0.        , 0.08062446, 0.05610207, 0.25558757,\n",
       "        0.26251234, 0.06350129, 0.12608031, 0.11633436, 0.29995159,\n",
       "        0.0742677 , 0.25168449, 0.22630345, 0.23520893],\n",
       "       [0.20270489, 0.08062446, 0.        , 0.04354652, 0.19339696,\n",
       "        0.23391601, 0.11482268, 0.04545585, 0.03982919, 0.21932713,\n",
       "        0.10446559, 0.17106003, 0.20410059, 0.18580079],\n",
       "       [0.23304443, 0.05610207, 0.04354652, 0.        , 0.21850963,\n",
       "        0.23027366, 0.07127616, 0.08900237, 0.07925642, 0.26287365,\n",
       "        0.06345506, 0.21460655, 0.19464639, 0.19813099],\n",
       "       [0.10767524, 0.25558757, 0.19339696, 0.21850963, 0.        ,\n",
       "        0.07830397, 0.28978579, 0.23364638, 0.20730722, 0.18338388,\n",
       "        0.2794287 , 0.09956064, 0.11198855, 0.11894431],\n",
       "       [0.12799122, 0.26251234, 0.23391601, 0.23027366, 0.07830397,\n",
       "        0.        , 0.29671056, 0.27416543, 0.24782627, 0.22390293,\n",
       "        0.29372872, 0.14007969, 0.13932216, 0.15946336],\n",
       "       [0.30432059, 0.06350129, 0.11482268, 0.07127616, 0.28978579,\n",
       "        0.29671056, 0.        , 0.16027853, 0.15053258, 0.33414981,\n",
       "        0.02031487, 0.28588271, 0.26050167, 0.26940715],\n",
       "       [0.20270489, 0.12608031, 0.04545585, 0.08900237, 0.23364638,\n",
       "        0.27416543, 0.16027853, 0.        , 0.03422325, 0.18236719,\n",
       "        0.14992144, 0.15171769, 0.20410059, 0.18686864],\n",
       "       [0.20270489, 0.11633436, 0.03982919, 0.07925642, 0.20730722,\n",
       "        0.24782627, 0.15053258, 0.03422325, 0.        , 0.18361723,\n",
       "        0.14017549, 0.13535013, 0.20410059, 0.17705646],\n",
       "       [0.11054764, 0.29995159, 0.21932713, 0.26287365, 0.18338388,\n",
       "        0.22390293, 0.33414981, 0.18236719, 0.18361723, 0.        ,\n",
       "        0.32379272, 0.08382324, 0.08458077, 0.09512993],\n",
       "       [0.2939635 , 0.0742677 , 0.10446559, 0.06345506, 0.2794287 ,\n",
       "        0.29372872, 0.02031487, 0.14992144, 0.14017549, 0.32379272,\n",
       "        0.        , 0.27552562, 0.25014458, 0.25905006],\n",
       "       [0.132072  , 0.25168449, 0.17106003, 0.21460655, 0.09956064,\n",
       "        0.14007969, 0.28588271, 0.15171769, 0.13535013, 0.08382324,\n",
       "        0.27552562, 0.        , 0.0868246 , 0.10404144],\n",
       "       [0.08415318, 0.22630345, 0.20410059, 0.19464639, 0.11198855,\n",
       "        0.13932216, 0.26050167, 0.20410059, 0.20410059, 0.08458077,\n",
       "        0.25014458, 0.0868246 , 0.        , 0.16471239],\n",
       "       [0.15367433, 0.23520893, 0.18580079, 0.19813099, 0.11894431,\n",
       "        0.15946336, 0.26940715, 0.18686864, 0.17705646, 0.09512993,\n",
       "        0.25905006, 0.10404144, 0.16471239, 0.        ]])"
      ]
     },
     "execution_count": 16,
     "metadata": {},
     "output_type": "execute_result"
    }
   ],
   "source": [
    "B0 = B0 + B0.transpose()\n",
    "B1 = B1 + B1.transpose()\n",
    "B0"
   ]
  },
  {
   "cell_type": "markdown",
   "metadata": {},
   "source": [
    "We apply a Multidimensional Scaling method (from the [<code>scikit-learn</code>](http://scikit-learn.org/stable/) library)  to visualize the bottleneck distances:"
   ]
  },
  {
   "cell_type": "code",
   "execution_count": 17,
   "metadata": {},
   "outputs": [],
   "source": [
    "mds = manifold.MDS(n_components=2, max_iter=3000, eps=1e-9,\n",
    "                   dissimilarity=\"precomputed\", n_jobs=1)\n",
    "pos = mds.fit(B0).embedding_"
   ]
  },
  {
   "cell_type": "code",
   "execution_count": 18,
   "metadata": {},
   "outputs": [
    {
     "data": {
      "image/png": "[encoded data removed]",
      "text/plain": [
       "<Figure size 432x288 with 1 Axes>"
      ]
     },
     "metadata": {
      "needs_background": "light"
     },
     "output_type": "display_data"
    }
   ],
   "source": [
    "plt.scatter(pos[0:7,0], pos[0:7, 1], color='red', label=\"closed\")\n",
    "plt.scatter(pos[7:l,0], pos[7:l, 1], color='blue', label=\"red\")\n",
    "plt.legend( loc=3, borderaxespad=1);"
   ]
  },
  {
   "cell_type": "code",
   "execution_count": 19,
   "metadata": {},
   "outputs": [],
   "source": [
    "mds = manifold.MDS(n_components=2, max_iter=3000, eps=1e-9,\n",
    "                   dissimilarity=\"precomputed\", n_jobs=1)\n",
    "pos = mds.fit(B1).embedding_"
   ]
  },
  {
   "cell_type": "code",
   "execution_count": 20,
   "metadata": {},
   "outputs": [
    {
     "data": {
      "image/png": "[encoded data removed]",
      "text/plain": [
       "<Figure size 432x288 with 1 Axes>"
      ]
     },
     "metadata": {
      "needs_background": "light"
     },
     "output_type": "display_data"
    }
   ],
   "source": [
    "plt.scatter(pos[0:7,0], pos[0:7, 1], color='red', label=\"closed\")\n",
    "plt.scatter(pos[7:l,0], pos[7:l, 1], color='blue', label=\"red\")\n",
    "plt.legend( loc=2, borderaxespad=1);"
   ]
  }
 ],
 "metadata": {
  "anaconda-cloud": {},
  "kernelspec": {
   "display_name": "Python 3",
   "language": "python",
   "name": "python3"
  },
  "language_info": {
   "codemirror_mode": {
    "name": "ipython",
    "version": 3
   },
   "file_extension": ".py",
   "mimetype": "text/x-python",
   "name": "python",
   "nbconvert_exporter": "python",
   "pygments_lexer": "ipython3",
   "version": "3.6.8"
  },
  "toc": {
   "base_numbering": 1,
   "nav_menu": {},
   "number_sections": true,
   "sideBar": true,
   "skip_h1_title": false,
   "title_cell": "Table of Contents",
   "title_sidebar": "Contents",
   "toc_cell": false,
   "toc_position": {},
   "toc_section_display": true,
   "toc_window_display": false
  }
 },
 "nbformat": 4,
 "nbformat_minor": 1
}
